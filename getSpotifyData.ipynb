{
 "cells": [
  {
   "cell_type": "code",
   "execution_count": 7,
   "metadata": {},
   "outputs": [],
   "source": [
    "# cid, secret 본인 걸로 수정 후 맨 마지막 줄 함수에 (시작년, 끝년)을 넣고 모두실행\n",
    "import spotipy\n",
    "from spotipy.oauth2 import SpotifyClientCredentials\n",
    "import numpy as np\n",
    "import pandas as pd\n",
    "import json\n",
    "from sklearn.preprocessing import LabelEncoder\n",
    "\n",
    "# 본인 cid, secret 입력\n",
    "cid = \"8494dc579e694b9a91d1728fe3be9b96\" \n",
    "secret = \"d571c3a3139849a68734f206590794fa\"\n",
    "client_credentials_manager = SpotifyClientCredentials(client_id=cid, client_secret=secret)\n",
    "\n",
    "sp = spotipy.Spotify(client_credentials_manager=client_credentials_manager)\n",
    "\n",
    "af = ['danceability', 'energy', 'loudness', 'mode', 'speechiness', 'acousticness', 'instrumentalness', 'liveness', 'valence', 'tempo']\n",
    "columns = ['date', 'danceability', 'energy', 'loudness', 'mode', 'speechiness', 'acousticness', 'instrumentalness', 'liveness', 'valence', 'tempo']\n",
    "trackIDs = []\n",
    "songdict = {}\n"
   ]
  },
  {
   "cell_type": "code",
   "execution_count": 8,
   "metadata": {},
   "outputs": [],
   "source": [
    "# get json file of billboard\n",
    "\n",
    "def getJSONFile(s_year, e_year):\n",
    "    with open(f'data/billboard/billboard_{s_year}to{e_year}.json', 'r') as f:\n",
    "        data = f.read()\n",
    "        data = json.loads(data)\n",
    "    return data"
   ]
  },
  {
   "cell_type": "code",
   "execution_count": 9,
   "metadata": {},
   "outputs": [],
   "source": [
    "def getSongSet(data):\n",
    "    songSet = set()\n",
    "    for chart in data:\n",
    "        for song in chart:\n",
    "            songSet.add((song[1], song[2]))\n",
    "    return songSet"
   ]
  },
  {
   "cell_type": "code",
   "execution_count": 10,
   "metadata": {},
   "outputs": [],
   "source": [
    "import time\n",
    "import re\n",
    "import difflib\n",
    "\n",
    "def getIDsAt(num, ls):\n",
    "    temp = []\n",
    "    for i in range(num * 77, num * 77 + 77):\n",
    "        if i < len(ls) - 1:\n",
    "            # artist = ls[i][1].replace(\" x \", \" & \").replace(\" X \", \" & \").replace(\"Featuring\", \"&\").replace(\"featuring\", \"&\").replace(\"With\", \"&\").replace(\"with\", \"&\").replace(\"And\", \"&\").replace(\"and\", \"&\")\n",
    "            # raw string으로 변환 처리\n",
    "            artist = re.sub(r\"( x | X |Featuring|featuring|With|with|And|and)\", \"&\", ls[i][1], flags=re.IGNORECASE)\n",
    "            search = sp.search(f\"{ls[i][0]} - {artist}\", limit=1, type=['track', 'artist'])\n",
    "            track = search['tracks']['items'][0]\n",
    "            trackID = track['id']\n",
    "            trackName = track['name']\n",
    "            name = ls[i][0]\n",
    "            # trackName과 name의 문자열을 비교해서 같은 정도가 어느정도인지 확인\n",
    "            similarity = difflib.SequenceMatcher(None, trackName.lower(), name.lower()).ratio()\n",
    "            if (trackName.lower() in name.lower()) or (name.lower() in trackName.lower()) or (similarity >= 0.5):\n",
    "                temp.append(trackID)\n",
    "                songdict[trackID] = [f\"{ls[i][0]} - {ls[i][1]}\", []]\n",
    "        time.sleep(0.5)\n",
    "    trackIDs.append(temp)"
   ]
  },
  {
   "cell_type": "code",
   "execution_count": 11,
   "metadata": {},
   "outputs": [],
   "source": [
    "def getIDs(len, ls):\n",
    "    for i in range(len):\n",
    "        getIDsAt(i, ls)"
   ]
  },
  {
   "cell_type": "code",
   "execution_count": 12,
   "metadata": {},
   "outputs": [],
   "source": [
    "def getFeaturesAt(num):\n",
    "    features = sp.audio_features(tracks=trackIDs[num])\n",
    "    for id, feature in zip(trackIDs[num], features):\n",
    "        songdict[id] = [songdict[id][0], [feature[\"danceability\"], feature[\"energy\"], feature[\"loudness\"], feature[\"mode\"], feature[\"speechiness\"], feature[\"acousticness\"], feature[\"instrumentalness\"], feature[\"liveness\"], feature[\"valence\"], feature[\"tempo\"]]]\n",
    "        \n",
    "def getFeatures(len):\n",
    "    for i in range(len):\n",
    "        getFeaturesAt(i)\n",
    "        time.sleep(5)"
   ]
  },
  {
   "cell_type": "code",
   "execution_count": 13,
   "metadata": {},
   "outputs": [],
   "source": [
    "def getSpotifyData(s_year, e_year):\n",
    "    data = getJSONFile(s_year, e_year)\n",
    "    songSet = getSongSet(data)\n",
    "    ls = list(songSet)\n",
    "    length = len(ls) // 77 + 1\n",
    "    \n",
    "    getIDs(length, ls)\n",
    "    getFeatures(len(trackIDs))\n",
    "    featuresDict = {}\n",
    "    for key, value in songdict.items():\n",
    "        featuresDict[value[0]] = value[1]\n",
    "        \n",
    "    for chart in data:\n",
    "        for song in chart:\n",
    "            query = song[1] + \" - \" + song[2]\n",
    "            song[4] = featuresDict.get(query)\n",
    "    \n",
    "    label = []\n",
    "    for chart in data:\n",
    "        for song in chart:\n",
    "            if song[4] == None:\n",
    "                label.append(50)\n",
    "            else:\n",
    "                label.append(song[3])\n",
    "    label = np.array(label)\n",
    "    dataList = []\n",
    "    index = []\n",
    "    arr = []\n",
    "    for chart in data:\n",
    "        for song in chart:\n",
    "            index.append(song[0])\n",
    "            if song[4] != None:\n",
    "                arr = song[4]\n",
    "                \n",
    "            else:\n",
    "                arr = np.empty(10)\n",
    "                arr[:] = np.nan\n",
    "            # arr 앞에 song[0]을 추가\n",
    "            arr = np.concatenate(([song[0]], arr))\n",
    "            dataList.append(arr)\n",
    "    df = pd.DataFrame(data=dataList, index=index, columns=columns)\n",
    "    label = pd.Series(label, index=index)\n",
    "\n",
    "    for col in columns:\n",
    "        if (df[col].dtype == \"object\") or (df[col].dtype == \"O\"):\n",
    "            le = LabelEncoder()\n",
    "            df[col] = le.fit_transform(df[col])\n",
    "    df.fillna(df.median(), inplace=True)\n",
    "    \n",
    "    df.to_csv(f\"data/dataframes/dataframe_{s_year}to{e_year}.csv\")\n",
    "    label.to_csv(f\"data/dataframes/label_{s_year}to{e_year}.csv\")"
   ]
  },
  {
   "cell_type": "code",
   "execution_count": null,
   "metadata": {},
   "outputs": [],
   "source": [
    "getSpotifyData()\n"
   ]
  }
 ],
 "metadata": {
  "kernelspec": {
   "display_name": ".venv",
   "language": "python",
   "name": "python3"
  },
  "language_info": {
   "codemirror_mode": {
    "name": "ipython",
    "version": 3
   },
   "file_extension": ".py",
   "mimetype": "text/x-python",
   "name": "python",
   "nbconvert_exporter": "python",
   "pygments_lexer": "ipython3",
   "version": "3.12.4"
  }
 },
 "nbformat": 4,
 "nbformat_minor": 2
}
