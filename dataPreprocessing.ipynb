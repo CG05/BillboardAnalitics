{
 "cells": [
  {
   "cell_type": "code",
   "execution_count": 1,
   "metadata": {},
   "outputs": [],
   "source": [
    "import pandas as pd\n",
    "\n",
    "data = pd.read_csv('data/dataframes/dataframe_final.csv', index_col=0)\n",
    "label = pd.read_csv('data/dataframes/label_final.csv', index_col=0)"
   ]
  },
  {
   "cell_type": "code",
   "execution_count": 2,
   "metadata": {},
   "outputs": [
    {
     "data": {
      "text/html": [
       "<div>\n",
       "<style scoped>\n",
       "    .dataframe tbody tr th:only-of-type {\n",
       "        vertical-align: middle;\n",
       "    }\n",
       "\n",
       "    .dataframe tbody tr th {\n",
       "        vertical-align: top;\n",
       "    }\n",
       "\n",
       "    .dataframe thead th {\n",
       "        text-align: right;\n",
       "    }\n",
       "</style>\n",
       "<table border=\"1\" class=\"dataframe\">\n",
       "  <thead>\n",
       "    <tr style=\"text-align: right;\">\n",
       "      <th></th>\n",
       "      <th>date</th>\n",
       "      <th>danceability</th>\n",
       "      <th>energy</th>\n",
       "      <th>loudness</th>\n",
       "      <th>mode</th>\n",
       "      <th>speechiness</th>\n",
       "      <th>acousticness</th>\n",
       "      <th>instrumentalness</th>\n",
       "      <th>liveness</th>\n",
       "      <th>valence</th>\n",
       "      <th>tempo</th>\n",
       "    </tr>\n",
       "  </thead>\n",
       "  <tbody>\n",
       "    <tr>\n",
       "      <th>1963-01-01</th>\n",
       "      <td>0</td>\n",
       "      <td>173</td>\n",
       "      <td>861</td>\n",
       "      <td>3246</td>\n",
       "      <td>1</td>\n",
       "      <td>231</td>\n",
       "      <td>98</td>\n",
       "      <td>1819</td>\n",
       "      <td>905</td>\n",
       "      <td>719</td>\n",
       "      <td>4569</td>\n",
       "    </tr>\n",
       "    <tr>\n",
       "      <th>1963-01-01</th>\n",
       "      <td>0</td>\n",
       "      <td>254</td>\n",
       "      <td>245</td>\n",
       "      <td>2251</td>\n",
       "      <td>1</td>\n",
       "      <td>85</td>\n",
       "      <td>1271</td>\n",
       "      <td>0</td>\n",
       "      <td>786</td>\n",
       "      <td>504</td>\n",
       "      <td>858</td>\n",
       "    </tr>\n",
       "    <tr>\n",
       "      <th>1963-01-01</th>\n",
       "      <td>0</td>\n",
       "      <td>591</td>\n",
       "      <td>845</td>\n",
       "      <td>3404</td>\n",
       "      <td>1</td>\n",
       "      <td>144</td>\n",
       "      <td>934</td>\n",
       "      <td>380</td>\n",
       "      <td>414</td>\n",
       "      <td>904</td>\n",
       "      <td>6858</td>\n",
       "    </tr>\n",
       "    <tr>\n",
       "      <th>1963-01-01</th>\n",
       "      <td>0</td>\n",
       "      <td>372</td>\n",
       "      <td>501</td>\n",
       "      <td>3930</td>\n",
       "      <td>1</td>\n",
       "      <td>51</td>\n",
       "      <td>1582</td>\n",
       "      <td>2922</td>\n",
       "      <td>1156</td>\n",
       "      <td>595</td>\n",
       "      <td>4349</td>\n",
       "    </tr>\n",
       "    <tr>\n",
       "      <th>1963-01-01</th>\n",
       "      <td>0</td>\n",
       "      <td>610</td>\n",
       "      <td>791</td>\n",
       "      <td>3439</td>\n",
       "      <td>1</td>\n",
       "      <td>440</td>\n",
       "      <td>1173</td>\n",
       "      <td>2930</td>\n",
       "      <td>347</td>\n",
       "      <td>776</td>\n",
       "      <td>3377</td>\n",
       "    </tr>\n",
       "    <tr>\n",
       "      <th>...</th>\n",
       "      <td>...</td>\n",
       "      <td>...</td>\n",
       "      <td>...</td>\n",
       "      <td>...</td>\n",
       "      <td>...</td>\n",
       "      <td>...</td>\n",
       "      <td>...</td>\n",
       "      <td>...</td>\n",
       "      <td>...</td>\n",
       "      <td>...</td>\n",
       "      <td>...</td>\n",
       "    </tr>\n",
       "    <tr>\n",
       "      <th>2022-12-26</th>\n",
       "      <td>834</td>\n",
       "      <td>346</td>\n",
       "      <td>668</td>\n",
       "      <td>1043</td>\n",
       "      <td>1</td>\n",
       "      <td>70</td>\n",
       "      <td>767</td>\n",
       "      <td>0</td>\n",
       "      <td>642</td>\n",
       "      <td>682</td>\n",
       "      <td>3100</td>\n",
       "    </tr>\n",
       "    <tr>\n",
       "      <th>2022-12-26</th>\n",
       "      <td>834</td>\n",
       "      <td>405</td>\n",
       "      <td>655</td>\n",
       "      <td>2675</td>\n",
       "      <td>0</td>\n",
       "      <td>46</td>\n",
       "      <td>249</td>\n",
       "      <td>1852</td>\n",
       "      <td>821</td>\n",
       "      <td>758</td>\n",
       "      <td>1270</td>\n",
       "    </tr>\n",
       "    <tr>\n",
       "      <th>2022-12-26</th>\n",
       "      <td>834</td>\n",
       "      <td>432</td>\n",
       "      <td>594</td>\n",
       "      <td>1716</td>\n",
       "      <td>1</td>\n",
       "      <td>662</td>\n",
       "      <td>1373</td>\n",
       "      <td>75</td>\n",
       "      <td>655</td>\n",
       "      <td>558</td>\n",
       "      <td>1652</td>\n",
       "    </tr>\n",
       "    <tr>\n",
       "      <th>2022-12-26</th>\n",
       "      <td>834</td>\n",
       "      <td>377</td>\n",
       "      <td>393</td>\n",
       "      <td>3764</td>\n",
       "      <td>1</td>\n",
       "      <td>595</td>\n",
       "      <td>2132</td>\n",
       "      <td>80</td>\n",
       "      <td>621</td>\n",
       "      <td>549</td>\n",
       "      <td>897</td>\n",
       "    </tr>\n",
       "    <tr>\n",
       "      <th>2022-12-26</th>\n",
       "      <td>834</td>\n",
       "      <td>382</td>\n",
       "      <td>223</td>\n",
       "      <td>4355</td>\n",
       "      <td>1</td>\n",
       "      <td>82</td>\n",
       "      <td>1907</td>\n",
       "      <td>1839</td>\n",
       "      <td>568</td>\n",
       "      <td>292</td>\n",
       "      <td>2798</td>\n",
       "    </tr>\n",
       "  </tbody>\n",
       "</table>\n",
       "<p>313187 rows × 11 columns</p>\n",
       "</div>"
      ],
      "text/plain": [
       "            date  danceability  energy  loudness  mode  speechiness  \\\n",
       "1963-01-01     0           173     861      3246     1          231   \n",
       "1963-01-01     0           254     245      2251     1           85   \n",
       "1963-01-01     0           591     845      3404     1          144   \n",
       "1963-01-01     0           372     501      3930     1           51   \n",
       "1963-01-01     0           610     791      3439     1          440   \n",
       "...          ...           ...     ...       ...   ...          ...   \n",
       "2022-12-26   834           346     668      1043     1           70   \n",
       "2022-12-26   834           405     655      2675     0           46   \n",
       "2022-12-26   834           432     594      1716     1          662   \n",
       "2022-12-26   834           377     393      3764     1          595   \n",
       "2022-12-26   834           382     223      4355     1           82   \n",
       "\n",
       "            acousticness  instrumentalness  liveness  valence  tempo  \n",
       "1963-01-01            98              1819       905      719   4569  \n",
       "1963-01-01          1271                 0       786      504    858  \n",
       "1963-01-01           934               380       414      904   6858  \n",
       "1963-01-01          1582              2922      1156      595   4349  \n",
       "1963-01-01          1173              2930       347      776   3377  \n",
       "...                  ...               ...       ...      ...    ...  \n",
       "2022-12-26           767                 0       642      682   3100  \n",
       "2022-12-26           249              1852       821      758   1270  \n",
       "2022-12-26          1373                75       655      558   1652  \n",
       "2022-12-26          2132                80       621      549    897  \n",
       "2022-12-26          1907              1839       568      292   2798  \n",
       "\n",
       "[313187 rows x 11 columns]"
      ]
     },
     "execution_count": 2,
     "metadata": {},
     "output_type": "execute_result"
    }
   ],
   "source": [
    "data"
   ]
  },
  {
   "cell_type": "code",
   "execution_count": 3,
   "metadata": {},
   "outputs": [],
   "source": [
    "from sklearn.preprocessing import StandardScaler\n",
    "\n",
    "stdScaler = StandardScaler()\n",
    "dataStdScaled = stdScaler.fit_transform(data)\n",
    "dataStdScaled = pd.DataFrame(dataStdScaled, columns=data.columns, index=data.index)"
   ]
  },
  {
   "cell_type": "code",
   "execution_count": 4,
   "metadata": {},
   "outputs": [
    {
     "data": {
      "text/html": [
       "<div>\n",
       "<style scoped>\n",
       "    .dataframe tbody tr th:only-of-type {\n",
       "        vertical-align: middle;\n",
       "    }\n",
       "\n",
       "    .dataframe tbody tr th {\n",
       "        vertical-align: top;\n",
       "    }\n",
       "\n",
       "    .dataframe thead th {\n",
       "        text-align: right;\n",
       "    }\n",
       "</style>\n",
       "<table border=\"1\" class=\"dataframe\">\n",
       "  <thead>\n",
       "    <tr style=\"text-align: right;\">\n",
       "      <th></th>\n",
       "      <th>date</th>\n",
       "      <th>danceability</th>\n",
       "      <th>energy</th>\n",
       "      <th>loudness</th>\n",
       "      <th>mode</th>\n",
       "      <th>speechiness</th>\n",
       "      <th>acousticness</th>\n",
       "      <th>instrumentalness</th>\n",
       "      <th>liveness</th>\n",
       "      <th>valence</th>\n",
       "      <th>tempo</th>\n",
       "    </tr>\n",
       "  </thead>\n",
       "  <tbody>\n",
       "    <tr>\n",
       "      <th>1963-01-01</th>\n",
       "      <td>-1.722298</td>\n",
       "      <td>-1.535255</td>\n",
       "      <td>1.728570</td>\n",
       "      <td>0.476007</td>\n",
       "      <td>0.441364</td>\n",
       "      <td>-0.370877</td>\n",
       "      <td>-2.169749</td>\n",
       "      <td>1.137675</td>\n",
       "      <td>0.862400</td>\n",
       "      <td>0.575627</td>\n",
       "      <td>0.693994</td>\n",
       "    </tr>\n",
       "    <tr>\n",
       "      <th>1963-01-01</th>\n",
       "      <td>-1.722298</td>\n",
       "      <td>-1.023289</td>\n",
       "      <td>-1.359900</td>\n",
       "      <td>-0.175764</td>\n",
       "      <td>0.441364</td>\n",
       "      <td>-0.848745</td>\n",
       "      <td>0.084397</td>\n",
       "      <td>-0.861027</td>\n",
       "      <td>0.438857</td>\n",
       "      <td>-0.325204</td>\n",
       "      <td>-1.121667</td>\n",
       "    </tr>\n",
       "    <tr>\n",
       "      <th>1963-01-01</th>\n",
       "      <td>-1.722298</td>\n",
       "      <td>1.106741</td>\n",
       "      <td>1.648350</td>\n",
       "      <td>0.579505</td>\n",
       "      <td>0.441364</td>\n",
       "      <td>-0.655634</td>\n",
       "      <td>-0.563213</td>\n",
       "      <td>-0.443486</td>\n",
       "      <td>-0.885160</td>\n",
       "      <td>1.350760</td>\n",
       "      <td>1.813920</td>\n",
       "    </tr>\n",
       "    <tr>\n",
       "      <th>1963-01-01</th>\n",
       "      <td>-1.722298</td>\n",
       "      <td>-0.277463</td>\n",
       "      <td>-0.076380</td>\n",
       "      <td>0.924059</td>\n",
       "      <td>0.441364</td>\n",
       "      <td>-0.960029</td>\n",
       "      <td>0.682044</td>\n",
       "      <td>2.349643</td>\n",
       "      <td>1.755756</td>\n",
       "      <td>0.056078</td>\n",
       "      <td>0.586356</td>\n",
       "    </tr>\n",
       "    <tr>\n",
       "      <th>1963-01-01</th>\n",
       "      <td>-1.722298</td>\n",
       "      <td>1.226832</td>\n",
       "      <td>1.377608</td>\n",
       "      <td>0.602431</td>\n",
       "      <td>0.441364</td>\n",
       "      <td>0.313195</td>\n",
       "      <td>-0.103929</td>\n",
       "      <td>2.358433</td>\n",
       "      <td>-1.123626</td>\n",
       "      <td>0.814451</td>\n",
       "      <td>0.110790</td>\n",
       "    </tr>\n",
       "    <tr>\n",
       "      <th>...</th>\n",
       "      <td>...</td>\n",
       "      <td>...</td>\n",
       "      <td>...</td>\n",
       "      <td>...</td>\n",
       "      <td>...</td>\n",
       "      <td>...</td>\n",
       "      <td>...</td>\n",
       "      <td>...</td>\n",
       "      <td>...</td>\n",
       "      <td>...</td>\n",
       "      <td>...</td>\n",
       "    </tr>\n",
       "    <tr>\n",
       "      <th>2022-12-26</th>\n",
       "      <td>1.943388</td>\n",
       "      <td>-0.441797</td>\n",
       "      <td>0.760917</td>\n",
       "      <td>-0.967060</td>\n",
       "      <td>0.441364</td>\n",
       "      <td>-0.897841</td>\n",
       "      <td>-0.884136</td>\n",
       "      <td>-0.861027</td>\n",
       "      <td>-0.073666</td>\n",
       "      <td>0.420600</td>\n",
       "      <td>-0.024736</td>\n",
       "    </tr>\n",
       "    <tr>\n",
       "      <th>2022-12-26</th>\n",
       "      <td>1.943388</td>\n",
       "      <td>-0.068884</td>\n",
       "      <td>0.695738</td>\n",
       "      <td>0.101976</td>\n",
       "      <td>-1.457158</td>\n",
       "      <td>-0.976395</td>\n",
       "      <td>-1.879574</td>\n",
       "      <td>1.173936</td>\n",
       "      <td>0.563429</td>\n",
       "      <td>0.739033</td>\n",
       "      <td>-0.920090</td>\n",
       "    </tr>\n",
       "    <tr>\n",
       "      <th>2022-12-26</th>\n",
       "      <td>1.943388</td>\n",
       "      <td>0.101771</td>\n",
       "      <td>0.389899</td>\n",
       "      <td>-0.526214</td>\n",
       "      <td>0.441364</td>\n",
       "      <td>1.039817</td>\n",
       "      <td>0.280410</td>\n",
       "      <td>-0.778617</td>\n",
       "      <td>-0.027396</td>\n",
       "      <td>-0.098949</td>\n",
       "      <td>-0.733191</td>\n",
       "    </tr>\n",
       "    <tr>\n",
       "      <th>2022-12-26</th>\n",
       "      <td>1.943388</td>\n",
       "      <td>-0.245860</td>\n",
       "      <td>-0.617865</td>\n",
       "      <td>0.815321</td>\n",
       "      <td>0.441364</td>\n",
       "      <td>0.820521</td>\n",
       "      <td>1.738975</td>\n",
       "      <td>-0.773123</td>\n",
       "      <td>-0.148409</td>\n",
       "      <td>-0.136658</td>\n",
       "      <td>-1.102586</td>\n",
       "    </tr>\n",
       "    <tr>\n",
       "      <th>2022-12-26</th>\n",
       "      <td>1.943388</td>\n",
       "      <td>-0.214257</td>\n",
       "      <td>-1.470202</td>\n",
       "      <td>1.202454</td>\n",
       "      <td>0.441364</td>\n",
       "      <td>-0.858564</td>\n",
       "      <td>1.306594</td>\n",
       "      <td>1.159651</td>\n",
       "      <td>-0.337045</td>\n",
       "      <td>-1.213464</td>\n",
       "      <td>-0.172494</td>\n",
       "    </tr>\n",
       "  </tbody>\n",
       "</table>\n",
       "<p>313187 rows × 11 columns</p>\n",
       "</div>"
      ],
      "text/plain": [
       "                date  danceability    energy  loudness      mode  speechiness  \\\n",
       "1963-01-01 -1.722298     -1.535255  1.728570  0.476007  0.441364    -0.370877   \n",
       "1963-01-01 -1.722298     -1.023289 -1.359900 -0.175764  0.441364    -0.848745   \n",
       "1963-01-01 -1.722298      1.106741  1.648350  0.579505  0.441364    -0.655634   \n",
       "1963-01-01 -1.722298     -0.277463 -0.076380  0.924059  0.441364    -0.960029   \n",
       "1963-01-01 -1.722298      1.226832  1.377608  0.602431  0.441364     0.313195   \n",
       "...              ...           ...       ...       ...       ...          ...   \n",
       "2022-12-26  1.943388     -0.441797  0.760917 -0.967060  0.441364    -0.897841   \n",
       "2022-12-26  1.943388     -0.068884  0.695738  0.101976 -1.457158    -0.976395   \n",
       "2022-12-26  1.943388      0.101771  0.389899 -0.526214  0.441364     1.039817   \n",
       "2022-12-26  1.943388     -0.245860 -0.617865  0.815321  0.441364     0.820521   \n",
       "2022-12-26  1.943388     -0.214257 -1.470202  1.202454  0.441364    -0.858564   \n",
       "\n",
       "            acousticness  instrumentalness  liveness   valence     tempo  \n",
       "1963-01-01     -2.169749          1.137675  0.862400  0.575627  0.693994  \n",
       "1963-01-01      0.084397         -0.861027  0.438857 -0.325204 -1.121667  \n",
       "1963-01-01     -0.563213         -0.443486 -0.885160  1.350760  1.813920  \n",
       "1963-01-01      0.682044          2.349643  1.755756  0.056078  0.586356  \n",
       "1963-01-01     -0.103929          2.358433 -1.123626  0.814451  0.110790  \n",
       "...                  ...               ...       ...       ...       ...  \n",
       "2022-12-26     -0.884136         -0.861027 -0.073666  0.420600 -0.024736  \n",
       "2022-12-26     -1.879574          1.173936  0.563429  0.739033 -0.920090  \n",
       "2022-12-26      0.280410         -0.778617 -0.027396 -0.098949 -0.733191  \n",
       "2022-12-26      1.738975         -0.773123 -0.148409 -0.136658 -1.102586  \n",
       "2022-12-26      1.306594          1.159651 -0.337045 -1.213464 -0.172494  \n",
       "\n",
       "[313187 rows x 11 columns]"
      ]
     },
     "execution_count": 4,
     "metadata": {},
     "output_type": "execute_result"
    }
   ],
   "source": [
    "dataStdScaled"
   ]
  },
  {
   "cell_type": "code",
   "execution_count": 5,
   "metadata": {},
   "outputs": [],
   "source": [
    "dataStdScaled.to_csv('data/dataframe_std.csv')"
   ]
  },
  {
   "cell_type": "code",
   "execution_count": 174,
   "metadata": {},
   "outputs": [],
   "source": [
    "import numpy as np\n",
    "from datetime import datetime\n",
    "\n",
    "def create_sequences(s_year, dataframe, label):\n",
    "    Xs, ys = [], []\n",
    "    curday = datetime(s_year, 1, 1)\n",
    "    dayformat = curday.strftime('%Y-%m-%d')\n",
    "    for idx in dataframe.index:\n",
    "        if idx != dayformat:\n",
    "            X = dataframe.loc[dayformat].values\n",
    "            y = label.loc[dayformat].values\n",
    "            \n",
    "            s = np.arange(X.shape[0])\n",
    "            np.random.shuffle(s)\n",
    "            X = X[s]\n",
    "            y = y[s]\n",
    "            \n",
    "            Xs.append(X)\n",
    "            ys.append(y)\n",
    "            dayformat = idx\n",
    "        \n",
    "    return np.array(Xs, dtype=object), np.array(ys, dtype=object)"
   ]
  },
  {
   "cell_type": "code",
   "execution_count": 218,
   "metadata": {},
   "outputs": [
    {
     "data": {
      "text/plain": [
       "((3131,), (3131,))"
      ]
     },
     "execution_count": 218,
     "metadata": {},
     "output_type": "execute_result"
    }
   ],
   "source": [
    "X, y = create_sequences(1963, data, label)\n",
    "X.shape, y.shape"
   ]
  },
  {
   "cell_type": "code",
   "execution_count": 176,
   "metadata": {},
   "outputs": [
    {
     "data": {
      "text/plain": [
       "((3131,), (3131,))"
      ]
     },
     "execution_count": 176,
     "metadata": {},
     "output_type": "execute_result"
    }
   ],
   "source": [
    "stdX, y = create_sequences(1963, dataStdScaled, label)\n",
    "stdX.shape, y.shape"
   ]
  },
  {
   "cell_type": "code",
   "execution_count": 219,
   "metadata": {},
   "outputs": [
    {
     "data": {
      "text/plain": [
       "(313087, 11)"
      ]
     },
     "execution_count": 219,
     "metadata": {},
     "output_type": "execute_result"
    }
   ],
   "source": [
    "temp = []\n",
    "for x in X:\n",
    "    for i in x:\n",
    "        temp.append(i)\n",
    "temp = np.array(temp)\n",
    "temp.shape"
   ]
  },
  {
   "cell_type": "code",
   "execution_count": 220,
   "metadata": {},
   "outputs": [],
   "source": [
    "X = temp"
   ]
  },
  {
   "cell_type": "code",
   "execution_count": 221,
   "metadata": {},
   "outputs": [
    {
     "data": {
      "text/plain": [
       "(313087, 1)"
      ]
     },
     "execution_count": 221,
     "metadata": {},
     "output_type": "execute_result"
    }
   ],
   "source": [
    "temp = []\n",
    "for y_ in y:\n",
    "    for i in y_:\n",
    "        temp.append(i)\n",
    "temp = np.array(temp)\n",
    "temp.shape"
   ]
  },
  {
   "cell_type": "code",
   "execution_count": 222,
   "metadata": {},
   "outputs": [
    {
     "data": {
      "text/plain": [
       "(313087, 1)"
      ]
     },
     "execution_count": 222,
     "metadata": {},
     "output_type": "execute_result"
    }
   ],
   "source": [
    "y = temp\n",
    "y.shape"
   ]
  },
  {
   "cell_type": "markdown",
   "metadata": {},
   "source": [
    "## 기본 데이터 사용"
   ]
  },
  {
   "cell_type": "code",
   "execution_count": 223,
   "metadata": {},
   "outputs": [],
   "source": [
    "from sklearn.model_selection import train_test_split\n",
    "\n",
    "X_train, X_test, y_train, y_test = train_test_split(X, y, test_size=0.2, shuffle=False)"
   ]
  },
  {
   "cell_type": "code",
   "execution_count": 224,
   "metadata": {},
   "outputs": [
    {
     "name": "stderr",
     "output_type": "stream",
     "text": [
      "c:\\Users\\PC\\CommunityAnalitics\\.venv\\Lib\\site-packages\\sklearn\\utils\\validation.py:1339: DataConversionWarning: A column-vector y was passed when a 1d array was expected. Please change the shape of y to (n_samples, ), for example using ravel().\n",
      "  y = column_or_1d(y, warn=True)\n"
     ]
    },
    {
     "data": {
      "text/plain": [
       "array([9.93704334e-01, 3.34193632e-03, 8.87607313e-04, 5.00971988e-04,\n",
       "       4.18796432e-04, 3.02583272e-04, 2.65098571e-04, 2.25674584e-04,\n",
       "       1.84438650e-04, 1.52909548e-04, 1.56497992e-05])"
      ]
     },
     "execution_count": 224,
     "metadata": {},
     "output_type": "execute_result"
    }
   ],
   "source": [
    "from sklearn.discriminant_analysis import LinearDiscriminantAnalysis\n",
    "\n",
    "lda = LinearDiscriminantAnalysis()\n",
    "lda.fit(X_train, y_train)\n",
    "lda.explained_variance_ratio_"
   ]
  },
  {
   "cell_type": "code",
   "execution_count": 225,
   "metadata": {},
   "outputs": [
    {
     "data": {
      "text/plain": [
       "array([ 0,  1,  2,  3,  4,  5,  6,  7,  8,  9, 10])"
      ]
     },
     "execution_count": 225,
     "metadata": {},
     "output_type": "execute_result"
    }
   ],
   "source": [
    "x_length = len(X_train[0])\n",
    "x = np.arange(x_length)\n",
    "x"
   ]
  },
  {
   "cell_type": "code",
   "execution_count": 226,
   "metadata": {},
   "outputs": [
    {
     "data": {
      "image/png": "[encoded data removed]",
      "text/plain": [
       "<Figure size 640x480 with 1 Axes>"
      ]
     },
     "metadata": {},
     "output_type": "display_data"
    }
   ],
   "source": [
    "x = np.arange(len(lda.explained_variance_ratio_))\n",
    "plt.bar(x, lda.explained_variance_ratio_)\n",
    "plt.show()"
   ]
  },
  {
   "cell_type": "code",
   "execution_count": 227,
   "metadata": {},
   "outputs": [],
   "source": [
    "X_train_lda = lda.transform(X_train)\n",
    "X_test_lda = lda.transform(X_test)"
   ]
  },
  {
   "cell_type": "code",
   "execution_count": 228,
   "metadata": {},
   "outputs": [
    {
     "name": "stdout",
     "output_type": "stream",
     "text": [
      "학습 세트 정확도 :  0.957\n",
      "검증 세트 정확도 :  -0.97\n",
      "평균 정확도 -0.9476528229250134\n"
     ]
    }
   ],
   "source": [
    "from sklearn.neighbors import KNeighborsRegressor\n",
    "from sklearn.model_selection import cross_val_score\n",
    "\n",
    "model = KNeighborsRegressor(n_neighbors=3)\n",
    "model.fit(X_train_lda, y_train)\n",
    "\n",
    "y_predicted = model.predict(X_test_lda)\n",
    "\n",
    "train_score = model.score(X_train_lda, y_train)\n",
    "test_score = model.score(X_test_lda, y_test)\n",
    "\n",
    "print('학습 세트 정확도 : ', round(train_score, 3))\n",
    "print('검증 세트 정확도 : ', round(test_score, 3))\n",
    "print(\"평균 정확도\", np.mean(cross_val_score(model, X_train_lda, y_train, cv=5)))"
   ]
  },
  {
   "cell_type": "code",
   "execution_count": 229,
   "metadata": {},
   "outputs": [
    {
     "data": {
      "image/png": "[encoded data removed]",
      "text/plain": [
       "<Figure size 640x480 with 1 Axes>"
      ]
     },
     "metadata": {},
     "output_type": "display_data"
    }
   ],
   "source": [
    "number_of_sample = 50\n",
    "\n",
    "plt.plot(range(number_of_sample), y_test[:number_of_sample], label='real target')\n",
    "plt.plot(range(number_of_sample), y_predicted[:number_of_sample], label='predicted target')\n",
    "plt.ylabel('label')\n",
    "plt.legend()\n",
    "plt.show()"
   ]
  },
  {
   "cell_type": "code",
   "execution_count": 230,
   "metadata": {},
   "outputs": [],
   "source": [
    "data2023 = pd.read_csv('data/dataframes/dataframe_2023to2023.csv', index_col=0)\n",
    "label2023 = pd.read_csv('data/dataframes/label_2023to2023.csv', index_col=0)"
   ]
  },
  {
   "cell_type": "code",
   "execution_count": 231,
   "metadata": {},
   "outputs": [
    {
     "data": {
      "text/html": [
       "<div>\n",
       "<style scoped>\n",
       "    .dataframe tbody tr th:only-of-type {\n",
       "        vertical-align: middle;\n",
       "    }\n",
       "\n",
       "    .dataframe tbody tr th {\n",
       "        vertical-align: top;\n",
       "    }\n",
       "\n",
       "    .dataframe thead th {\n",
       "        text-align: right;\n",
       "    }\n",
       "</style>\n",
       "<table border=\"1\" class=\"dataframe\">\n",
       "  <thead>\n",
       "    <tr style=\"text-align: right;\">\n",
       "      <th></th>\n",
       "      <th>date</th>\n",
       "      <th>danceability</th>\n",
       "      <th>energy</th>\n",
       "      <th>loudness</th>\n",
       "      <th>mode</th>\n",
       "      <th>speechiness</th>\n",
       "      <th>acousticness</th>\n",
       "      <th>instrumentalness</th>\n",
       "      <th>liveness</th>\n",
       "      <th>valence</th>\n",
       "      <th>tempo</th>\n",
       "    </tr>\n",
       "  </thead>\n",
       "  <tbody>\n",
       "    <tr>\n",
       "      <th>count</th>\n",
       "      <td>5300.000000</td>\n",
       "      <td>5300.000000</td>\n",
       "      <td>5300.000000</td>\n",
       "      <td>5300.000000</td>\n",
       "      <td>5300.000000</td>\n",
       "      <td>5300.000000</td>\n",
       "      <td>5300.000000</td>\n",
       "      <td>5300.000000</td>\n",
       "      <td>5300.000000</td>\n",
       "      <td>5300.000000</td>\n",
       "      <td>5300.000000</td>\n",
       "    </tr>\n",
       "    <tr>\n",
       "      <th>mean</th>\n",
       "      <td>26.000000</td>\n",
       "      <td>212.850000</td>\n",
       "      <td>231.561887</td>\n",
       "      <td>368.079057</td>\n",
       "      <td>0.672642</td>\n",
       "      <td>203.758302</td>\n",
       "      <td>325.459811</td>\n",
       "      <td>82.985094</td>\n",
       "      <td>182.091698</td>\n",
       "      <td>259.267358</td>\n",
       "      <td>363.531321</td>\n",
       "    </tr>\n",
       "    <tr>\n",
       "      <th>std</th>\n",
       "      <td>15.298502</td>\n",
       "      <td>107.386301</td>\n",
       "      <td>114.054946</td>\n",
       "      <td>198.671913</td>\n",
       "      <td>0.505683</td>\n",
       "      <td>143.972382</td>\n",
       "      <td>159.933981</td>\n",
       "      <td>109.672967</td>\n",
       "      <td>93.052868</td>\n",
       "      <td>135.434647</td>\n",
       "      <td>220.230802</td>\n",
       "    </tr>\n",
       "    <tr>\n",
       "      <th>min</th>\n",
       "      <td>0.000000</td>\n",
       "      <td>0.000000</td>\n",
       "      <td>0.000000</td>\n",
       "      <td>0.000000</td>\n",
       "      <td>0.000000</td>\n",
       "      <td>0.000000</td>\n",
       "      <td>0.000000</td>\n",
       "      <td>0.000000</td>\n",
       "      <td>0.000000</td>\n",
       "      <td>0.000000</td>\n",
       "      <td>0.000000</td>\n",
       "    </tr>\n",
       "    <tr>\n",
       "      <th>25%</th>\n",
       "      <td>13.000000</td>\n",
       "      <td>128.750000</td>\n",
       "      <td>145.000000</td>\n",
       "      <td>204.000000</td>\n",
       "      <td>0.000000</td>\n",
       "      <td>75.000000</td>\n",
       "      <td>206.750000</td>\n",
       "      <td>0.000000</td>\n",
       "      <td>139.000000</td>\n",
       "      <td>151.000000</td>\n",
       "      <td>164.000000</td>\n",
       "    </tr>\n",
       "    <tr>\n",
       "      <th>50%</th>\n",
       "      <td>26.000000</td>\n",
       "      <td>210.000000</td>\n",
       "      <td>230.000000</td>\n",
       "      <td>370.000000</td>\n",
       "      <td>1.000000</td>\n",
       "      <td>179.000000</td>\n",
       "      <td>328.000000</td>\n",
       "      <td>0.000000</td>\n",
       "      <td>161.000000</td>\n",
       "      <td>265.000000</td>\n",
       "      <td>350.000000</td>\n",
       "    </tr>\n",
       "    <tr>\n",
       "      <th>75%</th>\n",
       "      <td>39.000000</td>\n",
       "      <td>301.000000</td>\n",
       "      <td>329.250000</td>\n",
       "      <td>542.000000</td>\n",
       "      <td>1.000000</td>\n",
       "      <td>327.000000</td>\n",
       "      <td>454.000000</td>\n",
       "      <td>174.000000</td>\n",
       "      <td>245.250000</td>\n",
       "      <td>378.000000</td>\n",
       "      <td>539.000000</td>\n",
       "    </tr>\n",
       "    <tr>\n",
       "      <th>max</th>\n",
       "      <td>52.000000</td>\n",
       "      <td>412.000000</td>\n",
       "      <td>432.000000</td>\n",
       "      <td>713.000000</td>\n",
       "      <td>2.000000</td>\n",
       "      <td>503.000000</td>\n",
       "      <td>600.000000</td>\n",
       "      <td>320.000000</td>\n",
       "      <td>380.000000</td>\n",
       "      <td>488.000000</td>\n",
       "      <td>743.000000</td>\n",
       "    </tr>\n",
       "  </tbody>\n",
       "</table>\n",
       "</div>"
      ],
      "text/plain": [
       "              date  danceability       energy     loudness         mode  \\\n",
       "count  5300.000000   5300.000000  5300.000000  5300.000000  5300.000000   \n",
       "mean     26.000000    212.850000   231.561887   368.079057     0.672642   \n",
       "std      15.298502    107.386301   114.054946   198.671913     0.505683   \n",
       "min       0.000000      0.000000     0.000000     0.000000     0.000000   \n",
       "25%      13.000000    128.750000   145.000000   204.000000     0.000000   \n",
       "50%      26.000000    210.000000   230.000000   370.000000     1.000000   \n",
       "75%      39.000000    301.000000   329.250000   542.000000     1.000000   \n",
       "max      52.000000    412.000000   432.000000   713.000000     2.000000   \n",
       "\n",
       "       speechiness  acousticness  instrumentalness     liveness      valence  \\\n",
       "count  5300.000000   5300.000000       5300.000000  5300.000000  5300.000000   \n",
       "mean    203.758302    325.459811         82.985094   182.091698   259.267358   \n",
       "std     143.972382    159.933981        109.672967    93.052868   135.434647   \n",
       "min       0.000000      0.000000          0.000000     0.000000     0.000000   \n",
       "25%      75.000000    206.750000          0.000000   139.000000   151.000000   \n",
       "50%     179.000000    328.000000          0.000000   161.000000   265.000000   \n",
       "75%     327.000000    454.000000        174.000000   245.250000   378.000000   \n",
       "max     503.000000    600.000000        320.000000   380.000000   488.000000   \n",
       "\n",
       "             tempo  \n",
       "count  5300.000000  \n",
       "mean    363.531321  \n",
       "std     220.230802  \n",
       "min       0.000000  \n",
       "25%     164.000000  \n",
       "50%     350.000000  \n",
       "75%     539.000000  \n",
       "max     743.000000  "
      ]
     },
     "execution_count": 231,
     "metadata": {},
     "output_type": "execute_result"
    }
   ],
   "source": [
    "data2023.describe()"
   ]
  },
  {
   "cell_type": "code",
   "execution_count": 232,
   "metadata": {},
   "outputs": [
    {
     "data": {
      "text/html": [
       "<div>\n",
       "<style scoped>\n",
       "    .dataframe tbody tr th:only-of-type {\n",
       "        vertical-align: middle;\n",
       "    }\n",
       "\n",
       "    .dataframe tbody tr th {\n",
       "        vertical-align: top;\n",
       "    }\n",
       "\n",
       "    .dataframe thead th {\n",
       "        text-align: right;\n",
       "    }\n",
       "</style>\n",
       "<table border=\"1\" class=\"dataframe\">\n",
       "  <thead>\n",
       "    <tr style=\"text-align: right;\">\n",
       "      <th></th>\n",
       "      <th>date</th>\n",
       "      <th>danceability</th>\n",
       "      <th>energy</th>\n",
       "      <th>loudness</th>\n",
       "      <th>mode</th>\n",
       "      <th>speechiness</th>\n",
       "      <th>acousticness</th>\n",
       "      <th>instrumentalness</th>\n",
       "      <th>liveness</th>\n",
       "      <th>valence</th>\n",
       "      <th>tempo</th>\n",
       "    </tr>\n",
       "  </thead>\n",
       "  <tbody>\n",
       "    <tr>\n",
       "      <th>2023-01-01</th>\n",
       "      <td>835</td>\n",
       "      <td>12</td>\n",
       "      <td>206</td>\n",
       "      <td>574</td>\n",
       "      <td>1</td>\n",
       "      <td>106</td>\n",
       "      <td>333</td>\n",
       "      <td>0</td>\n",
       "      <td>31</td>\n",
       "      <td>173</td>\n",
       "      <td>414</td>\n",
       "    </tr>\n",
       "    <tr>\n",
       "      <th>2023-01-01</th>\n",
       "      <td>835</td>\n",
       "      <td>173</td>\n",
       "      <td>97</td>\n",
       "      <td>666</td>\n",
       "      <td>1</td>\n",
       "      <td>172</td>\n",
       "      <td>524</td>\n",
       "      <td>0</td>\n",
       "      <td>358</td>\n",
       "      <td>463</td>\n",
       "      <td>547</td>\n",
       "    </tr>\n",
       "    <tr>\n",
       "      <th>2023-01-01</th>\n",
       "      <td>835</td>\n",
       "      <td>300</td>\n",
       "      <td>74</td>\n",
       "      <td>652</td>\n",
       "      <td>1</td>\n",
       "      <td>91</td>\n",
       "      <td>527</td>\n",
       "      <td>0</td>\n",
       "      <td>21</td>\n",
       "      <td>430</td>\n",
       "      <td>113</td>\n",
       "    </tr>\n",
       "    <tr>\n",
       "      <th>2023-01-01</th>\n",
       "      <td>835</td>\n",
       "      <td>283</td>\n",
       "      <td>100</td>\n",
       "      <td>47</td>\n",
       "      <td>1</td>\n",
       "      <td>34</td>\n",
       "      <td>350</td>\n",
       "      <td>199</td>\n",
       "      <td>327</td>\n",
       "      <td>476</td>\n",
       "      <td>42</td>\n",
       "    </tr>\n",
       "    <tr>\n",
       "      <th>2023-01-01</th>\n",
       "      <td>835</td>\n",
       "      <td>240</td>\n",
       "      <td>50</td>\n",
       "      <td>49</td>\n",
       "      <td>1</td>\n",
       "      <td>43</td>\n",
       "      <td>514</td>\n",
       "      <td>0</td>\n",
       "      <td>41</td>\n",
       "      <td>466</td>\n",
       "      <td>322</td>\n",
       "    </tr>\n",
       "    <tr>\n",
       "      <th>...</th>\n",
       "      <td>...</td>\n",
       "      <td>...</td>\n",
       "      <td>...</td>\n",
       "      <td>...</td>\n",
       "      <td>...</td>\n",
       "      <td>...</td>\n",
       "      <td>...</td>\n",
       "      <td>...</td>\n",
       "      <td>...</td>\n",
       "      <td>...</td>\n",
       "      <td>...</td>\n",
       "    </tr>\n",
       "    <tr>\n",
       "      <th>2023-12-31</th>\n",
       "      <td>887</td>\n",
       "      <td>187</td>\n",
       "      <td>381</td>\n",
       "      <td>100</td>\n",
       "      <td>1</td>\n",
       "      <td>247</td>\n",
       "      <td>223</td>\n",
       "      <td>0</td>\n",
       "      <td>317</td>\n",
       "      <td>404</td>\n",
       "      <td>416</td>\n",
       "    </tr>\n",
       "    <tr>\n",
       "      <th>2023-12-31</th>\n",
       "      <td>887</td>\n",
       "      <td>262</td>\n",
       "      <td>361</td>\n",
       "      <td>196</td>\n",
       "      <td>0</td>\n",
       "      <td>319</td>\n",
       "      <td>189</td>\n",
       "      <td>0</td>\n",
       "      <td>318</td>\n",
       "      <td>434</td>\n",
       "      <td>30</td>\n",
       "    </tr>\n",
       "    <tr>\n",
       "      <th>2023-12-31</th>\n",
       "      <td>887</td>\n",
       "      <td>92</td>\n",
       "      <td>331</td>\n",
       "      <td>273</td>\n",
       "      <td>1</td>\n",
       "      <td>38</td>\n",
       "      <td>311</td>\n",
       "      <td>22</td>\n",
       "      <td>158</td>\n",
       "      <td>240</td>\n",
       "      <td>393</td>\n",
       "    </tr>\n",
       "    <tr>\n",
       "      <th>2023-12-31</th>\n",
       "      <td>887</td>\n",
       "      <td>344</td>\n",
       "      <td>427</td>\n",
       "      <td>253</td>\n",
       "      <td>0</td>\n",
       "      <td>125</td>\n",
       "      <td>347</td>\n",
       "      <td>142</td>\n",
       "      <td>176</td>\n",
       "      <td>475</td>\n",
       "      <td>167</td>\n",
       "    </tr>\n",
       "    <tr>\n",
       "      <th>2023-12-31</th>\n",
       "      <td>887</td>\n",
       "      <td>237</td>\n",
       "      <td>162</td>\n",
       "      <td>676</td>\n",
       "      <td>0</td>\n",
       "      <td>329</td>\n",
       "      <td>192</td>\n",
       "      <td>308</td>\n",
       "      <td>350</td>\n",
       "      <td>47</td>\n",
       "      <td>436</td>\n",
       "    </tr>\n",
       "  </tbody>\n",
       "</table>\n",
       "<p>5300 rows × 11 columns</p>\n",
       "</div>"
      ],
      "text/plain": [
       "            date  danceability  energy  loudness  mode  speechiness  \\\n",
       "2023-01-01   835            12     206       574     1          106   \n",
       "2023-01-01   835           173      97       666     1          172   \n",
       "2023-01-01   835           300      74       652     1           91   \n",
       "2023-01-01   835           283     100        47     1           34   \n",
       "2023-01-01   835           240      50        49     1           43   \n",
       "...          ...           ...     ...       ...   ...          ...   \n",
       "2023-12-31   887           187     381       100     1          247   \n",
       "2023-12-31   887           262     361       196     0          319   \n",
       "2023-12-31   887            92     331       273     1           38   \n",
       "2023-12-31   887           344     427       253     0          125   \n",
       "2023-12-31   887           237     162       676     0          329   \n",
       "\n",
       "            acousticness  instrumentalness  liveness  valence  tempo  \n",
       "2023-01-01           333                 0        31      173    414  \n",
       "2023-01-01           524                 0       358      463    547  \n",
       "2023-01-01           527                 0        21      430    113  \n",
       "2023-01-01           350               199       327      476     42  \n",
       "2023-01-01           514                 0        41      466    322  \n",
       "...                  ...               ...       ...      ...    ...  \n",
       "2023-12-31           223                 0       317      404    416  \n",
       "2023-12-31           189                 0       318      434     30  \n",
       "2023-12-31           311                22       158      240    393  \n",
       "2023-12-31           347               142       176      475    167  \n",
       "2023-12-31           192               308       350       47    436  \n",
       "\n",
       "[5300 rows x 11 columns]"
      ]
     },
     "execution_count": 232,
     "metadata": {},
     "output_type": "execute_result"
    }
   ],
   "source": [
    "data2023['date'] = data2023['date'] + 835\n",
    "data2023"
   ]
  },
  {
   "cell_type": "code",
   "execution_count": 233,
   "metadata": {},
   "outputs": [],
   "source": [
    "X2023, y2023 = create_sequences(2023, data2023, label2023)"
   ]
  },
  {
   "cell_type": "code",
   "execution_count": 234,
   "metadata": {},
   "outputs": [
    {
     "data": {
      "text/plain": [
       "((52, 100, 11), (52, 100, 1))"
      ]
     },
     "execution_count": 234,
     "metadata": {},
     "output_type": "execute_result"
    }
   ],
   "source": [
    "X2023.shape, y2023.shape"
   ]
  },
  {
   "cell_type": "code",
   "execution_count": 235,
   "metadata": {},
   "outputs": [],
   "source": [
    "X2023 = X2023.reshape(X2023.shape[0]*X2023.shape[1], X2023.shape[2])\n",
    "y2023 = y2023.reshape(y2023.shape[0]*y2023.shape[1], 1)"
   ]
  },
  {
   "cell_type": "code",
   "execution_count": 238,
   "metadata": {},
   "outputs": [],
   "source": [
    "X2023_lda = lda.transform(X2023)"
   ]
  },
  {
   "cell_type": "code",
   "execution_count": 239,
   "metadata": {},
   "outputs": [],
   "source": [
    "predict2023 = model.predict(X2023_lda)"
   ]
  },
  {
   "cell_type": "code",
   "execution_count": 241,
   "metadata": {},
   "outputs": [
    {
     "name": "stdout",
     "output_type": "stream",
     "text": [
      "예측 세트 정확도 :  -0.775\n",
      "평균 정확도 0.37650671775731237\n"
     ]
    }
   ],
   "source": [
    "pred_score = model.score(X2023_lda, y2023)\n",
    "\n",
    "print('예측 세트 정확도 : ', round(pred_score, 3))\n",
    "print(\"평균 정확도\", np.mean(cross_val_score(model, X2023_lda, y2023, cv=5)))"
   ]
  },
  {
   "cell_type": "code",
   "execution_count": 244,
   "metadata": {},
   "outputs": [
    {
     "data": {
      "image/png": "[encoded data removed]",
      "text/plain": [
       "<Figure size 640x480 with 1 Axes>"
      ]
     },
     "metadata": {},
     "output_type": "display_data"
    },
    {
     "ename": "",
     "evalue": "",
     "output_type": "error",
     "traceback": [
      "\u001b[1;31m현재 셀 또는 이전 셀에서 코드를 실행하는 동안 Kernel이 충돌했습니다. \n",
      "\u001b[1;31m셀의 코드를 검토하여 가능한 오류 원인을 식별하세요. \n",
      "\u001b[1;31m자세한 내용을 보려면 <a href='https://aka.ms/vscodeJupyterKernelCrash'>여기</a>를 클릭하세요. \n",
      "\u001b[1;31m자세한 내용은 Jupyter <a href='command:jupyter.viewOutput'>로그</a>를 참조하세요."
     ]
    }
   ],
   "source": [
    "plt.plot(range(100), y2023[:100], label='real target')\n",
    "plt.plot(range(100), predict2023[:100], label='predicted target')\n",
    "plt.ylabel('label')\n",
    "plt.legend()\n",
    "plt.show()"
   ]
  },
  {
   "cell_type": "code",
   "execution_count": null,
   "metadata": {},
   "outputs": [],
   "source": []
  }
 ],
 "metadata": {
  "kernelspec": {
   "display_name": ".venv",
   "language": "python",
   "name": "python3"
  },
  "language_info": {
   "codemirror_mode": {
    "name": "ipython",
    "version": 3
   },
   "file_extension": ".py",
   "mimetype": "text/x-python",
   "name": "python",
   "nbconvert_exporter": "python",
   "pygments_lexer": "ipython3",
   "version": "3.12.4"
  }
 },
 "nbformat": 4,
 "nbformat_minor": 2
}
