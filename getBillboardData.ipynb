{
 "cells": [
  {
   "cell_type": "code",
   "execution_count": null,
   "metadata": {},
   "outputs": [],
   "source": [
    "# 맨 마지막 줄 함수에 (시작년, 끝년)을 넣고 모두실행\n",
    "import billboard"
   ]
  },
  {
   "cell_type": "code",
   "execution_count": 1,
   "metadata": {},
   "outputs": [],
   "source": [
    "from datetime import datetime, timedelta\n",
    "import numpy as np\n",
    "curdate = datetime.now()\n",
    "\n",
    "def getYearsChart(s_year, e_year):\n",
    "    yearchartarr = []\n",
    "    curday = datetime(s_year, 1, 1)\n",
    "    while (curday.year == e_year):\n",
    "        dayformat = curday.strftime('%Y-%m-%d')\n",
    "        charts = billboard.ChartData('hot-100', date=dayformat)\n",
    "        curday += timedelta(weeks=1)\n",
    "        dayarr = []\n",
    "        for song in charts:\n",
    "            arr = [dayformat, song.title, song.artist, song.rank, []]\n",
    "            dayarr.append(arr)\n",
    "        yearchartarr.append(dayarr)\n",
    "        yearchart = np.array(yearchartarr, dtype=object)\n",
    "    return yearchart"
   ]
  },
  {
   "cell_type": "code",
   "execution_count": null,
   "metadata": {},
   "outputs": [],
   "source": [
    "import json\n",
    "\n",
    "# json으로 저장\n",
    "def getBillboardData(s_year, e_year):\n",
    "    yearsChart = getYearsChart(s_year, e_year)\n",
    "    json_data = json.dumps(yearsChart.tolist())\n",
    "    with open(f'data/billboard/billboard_{s_year}to{e_year}.json', 'w') as f:\n",
    "        f.write(json_data)"
   ]
  },
  {
   "cell_type": "code",
   "execution_count": null,
   "metadata": {},
   "outputs": [],
   "source": [
    "getBillboardData()"
   ]
  },
  {
   "cell_type": "code",
   "execution_count": null,
   "metadata": {},
   "outputs": [],
   "source": []
  }
 ],
 "metadata": {
  "kernelspec": {
   "display_name": ".venv",
   "language": "python",
   "name": "python3"
  },
  "language_info": {
   "codemirror_mode": {
    "name": "ipython",
    "version": 3
   },
   "file_extension": ".py",
   "mimetype": "text/x-python",
   "name": "python",
   "nbconvert_exporter": "python",
   "pygments_lexer": "ipython3",
   "version": "3.12.4"
  }
 },
 "nbformat": 4,
 "nbformat_minor": 2
}
