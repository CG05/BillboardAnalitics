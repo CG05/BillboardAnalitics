{
 "cells": [
  {
   "cell_type": "markdown",
   "metadata": {},
   "source": [
    "### 각자 생성한 csv 파일들을 하나로 통합"
   ]
  },
  {
   "cell_type": "code",
   "execution_count": 1,
   "metadata": {},
   "outputs": [],
   "source": [
    "# 각자 추출한 연도별 csv 파일들을 하나의 csv 파일로 통합하는 코드\n",
    "\n",
    "import pandas as pd\n",
    "import os\n",
    "\n",
    "def csv_integrate() -> None:\n",
    "    # csv 파일 저장된 디렉터리 설정\n",
    "    dfs_path = 'data/dataframes/'\n",
    "    dfs_list = os.listdir(dfs_path)\n",
    "    # 데이터프레임, 레이블의 csv 파일들의 목록을 각각 추출\n",
    "    dataframe_list = [df for df in dfs_list if df.startswith('dataframe')]\n",
    "    label_list = [df for df in dfs_list if df.startswith('label')]\n",
    "\n",
    "    # csv 파일을 데이터프레임으로 불러와 리스트로 저장\n",
    "    dataframes = []\n",
    "    labels = []\n",
    "\n",
    "    for dataframe in dataframe_list:\n",
    "        dataframes.append(pd.read_csv(dfs_path + dataframe, index_col=0))\n",
    "\n",
    "    for label in label_list:\n",
    "        labels.append(pd.read_csv(dfs_path + label, index_col=0))\n",
    "\n",
    "    # 리스트에 저장된 모든 데이터프레임들을 하나의 데이터프레임으로 통합\n",
    "    integrated_dataframe = pd.concat(dataframes)\n",
    "    integrated_label = pd.concat(labels)\n",
    "\n",
    "    # 통합된 데이터프레임을 다시 csv로 변환하여 저장\n",
    "    integrated_dataframe.to_csv(dfs_path + 'dataframe_final.csv') # (학습 데이터)원하는 파일명으로 바꾸면 됩니다.\n",
    "    integrated_label.to_csv(dfs_path + 'label_final.csv') # (레이블 데이터)\n"
   ]
  },
  {
   "cell_type": "code",
   "execution_count": 2,
   "metadata": {},
   "outputs": [],
   "source": [
    "csv_integrate()"
   ]
  },
  {
   "cell_type": "markdown",
   "metadata": {},
   "source": [
    "#### 이 아래는 통합이 잘 되었는지 확인하는 코드입니다."
   ]
  },
  {
   "cell_type": "code",
   "execution_count": 3,
   "metadata": {},
   "outputs": [],
   "source": [
    "test_datas = pd.read_csv('data/dataframes/dataframe_final.csv', index_col=0)\n",
    "test_labels = pd.read_csv('data/dataframes/label_final.csv', index_col=0)"
   ]
  },
  {
   "cell_type": "code",
   "execution_count": 4,
   "metadata": {},
   "outputs": [
    {
     "data": {
      "text/html": [
       "<div>\n",
       "<style scoped>\n",
       "    .dataframe tbody tr th:only-of-type {\n",
       "        vertical-align: middle;\n",
       "    }\n",
       "\n",
       "    .dataframe tbody tr th {\n",
       "        vertical-align: top;\n",
       "    }\n",
       "\n",
       "    .dataframe thead th {\n",
       "        text-align: right;\n",
       "    }\n",
       "</style>\n",
       "<table border=\"1\" class=\"dataframe\">\n",
       "  <thead>\n",
       "    <tr style=\"text-align: right;\">\n",
       "      <th></th>\n",
       "      <th>date</th>\n",
       "      <th>danceability</th>\n",
       "      <th>energy</th>\n",
       "      <th>loudness</th>\n",
       "      <th>mode</th>\n",
       "      <th>speechiness</th>\n",
       "      <th>acousticness</th>\n",
       "      <th>instrumentalness</th>\n",
       "      <th>liveness</th>\n",
       "      <th>valence</th>\n",
       "      <th>tempo</th>\n",
       "    </tr>\n",
       "  </thead>\n",
       "  <tbody>\n",
       "    <tr>\n",
       "      <th>1963-01-01</th>\n",
       "      <td>0</td>\n",
       "      <td>173</td>\n",
       "      <td>861</td>\n",
       "      <td>3246</td>\n",
       "      <td>1</td>\n",
       "      <td>231</td>\n",
       "      <td>98</td>\n",
       "      <td>1819</td>\n",
       "      <td>905</td>\n",
       "      <td>719</td>\n",
       "      <td>4569</td>\n",
       "    </tr>\n",
       "    <tr>\n",
       "      <th>1963-01-01</th>\n",
       "      <td>0</td>\n",
       "      <td>254</td>\n",
       "      <td>245</td>\n",
       "      <td>2251</td>\n",
       "      <td>1</td>\n",
       "      <td>85</td>\n",
       "      <td>1271</td>\n",
       "      <td>0</td>\n",
       "      <td>786</td>\n",
       "      <td>504</td>\n",
       "      <td>858</td>\n",
       "    </tr>\n",
       "    <tr>\n",
       "      <th>1963-01-01</th>\n",
       "      <td>0</td>\n",
       "      <td>591</td>\n",
       "      <td>845</td>\n",
       "      <td>3404</td>\n",
       "      <td>1</td>\n",
       "      <td>144</td>\n",
       "      <td>934</td>\n",
       "      <td>380</td>\n",
       "      <td>414</td>\n",
       "      <td>904</td>\n",
       "      <td>6858</td>\n",
       "    </tr>\n",
       "    <tr>\n",
       "      <th>1963-01-01</th>\n",
       "      <td>0</td>\n",
       "      <td>372</td>\n",
       "      <td>501</td>\n",
       "      <td>3930</td>\n",
       "      <td>1</td>\n",
       "      <td>51</td>\n",
       "      <td>1582</td>\n",
       "      <td>2922</td>\n",
       "      <td>1156</td>\n",
       "      <td>595</td>\n",
       "      <td>4349</td>\n",
       "    </tr>\n",
       "    <tr>\n",
       "      <th>1963-01-01</th>\n",
       "      <td>0</td>\n",
       "      <td>610</td>\n",
       "      <td>791</td>\n",
       "      <td>3439</td>\n",
       "      <td>1</td>\n",
       "      <td>440</td>\n",
       "      <td>1173</td>\n",
       "      <td>2930</td>\n",
       "      <td>347</td>\n",
       "      <td>776</td>\n",
       "      <td>3377</td>\n",
       "    </tr>\n",
       "  </tbody>\n",
       "</table>\n",
       "</div>"
      ],
      "text/plain": [
       "            date  danceability  energy  loudness  mode  speechiness  \\\n",
       "1963-01-01     0           173     861      3246     1          231   \n",
       "1963-01-01     0           254     245      2251     1           85   \n",
       "1963-01-01     0           591     845      3404     1          144   \n",
       "1963-01-01     0           372     501      3930     1           51   \n",
       "1963-01-01     0           610     791      3439     1          440   \n",
       "\n",
       "            acousticness  instrumentalness  liveness  valence  tempo  \n",
       "1963-01-01            98              1819       905      719   4569  \n",
       "1963-01-01          1271                 0       786      504    858  \n",
       "1963-01-01           934               380       414      904   6858  \n",
       "1963-01-01          1582              2922      1156      595   4349  \n",
       "1963-01-01          1173              2930       347      776   3377  "
      ]
     },
     "execution_count": 4,
     "metadata": {},
     "output_type": "execute_result"
    }
   ],
   "source": [
    "test_datas.head()"
   ]
  },
  {
   "cell_type": "code",
   "execution_count": 5,
   "metadata": {},
   "outputs": [
    {
     "data": {
      "text/html": [
       "<div>\n",
       "<style scoped>\n",
       "    .dataframe tbody tr th:only-of-type {\n",
       "        vertical-align: middle;\n",
       "    }\n",
       "\n",
       "    .dataframe tbody tr th {\n",
       "        vertical-align: top;\n",
       "    }\n",
       "\n",
       "    .dataframe thead th {\n",
       "        text-align: right;\n",
       "    }\n",
       "</style>\n",
       "<table border=\"1\" class=\"dataframe\">\n",
       "  <thead>\n",
       "    <tr style=\"text-align: right;\">\n",
       "      <th></th>\n",
       "      <th>date</th>\n",
       "      <th>danceability</th>\n",
       "      <th>energy</th>\n",
       "      <th>loudness</th>\n",
       "      <th>mode</th>\n",
       "      <th>speechiness</th>\n",
       "      <th>acousticness</th>\n",
       "      <th>instrumentalness</th>\n",
       "      <th>liveness</th>\n",
       "      <th>valence</th>\n",
       "      <th>tempo</th>\n",
       "    </tr>\n",
       "  </thead>\n",
       "  <tbody>\n",
       "    <tr>\n",
       "      <th>2022-12-26</th>\n",
       "      <td>834</td>\n",
       "      <td>346</td>\n",
       "      <td>668</td>\n",
       "      <td>1043</td>\n",
       "      <td>1</td>\n",
       "      <td>70</td>\n",
       "      <td>767</td>\n",
       "      <td>0</td>\n",
       "      <td>642</td>\n",
       "      <td>682</td>\n",
       "      <td>3100</td>\n",
       "    </tr>\n",
       "    <tr>\n",
       "      <th>2022-12-26</th>\n",
       "      <td>834</td>\n",
       "      <td>405</td>\n",
       "      <td>655</td>\n",
       "      <td>2675</td>\n",
       "      <td>0</td>\n",
       "      <td>46</td>\n",
       "      <td>249</td>\n",
       "      <td>1852</td>\n",
       "      <td>821</td>\n",
       "      <td>758</td>\n",
       "      <td>1270</td>\n",
       "    </tr>\n",
       "    <tr>\n",
       "      <th>2022-12-26</th>\n",
       "      <td>834</td>\n",
       "      <td>432</td>\n",
       "      <td>594</td>\n",
       "      <td>1716</td>\n",
       "      <td>1</td>\n",
       "      <td>662</td>\n",
       "      <td>1373</td>\n",
       "      <td>75</td>\n",
       "      <td>655</td>\n",
       "      <td>558</td>\n",
       "      <td>1652</td>\n",
       "    </tr>\n",
       "    <tr>\n",
       "      <th>2022-12-26</th>\n",
       "      <td>834</td>\n",
       "      <td>377</td>\n",
       "      <td>393</td>\n",
       "      <td>3764</td>\n",
       "      <td>1</td>\n",
       "      <td>595</td>\n",
       "      <td>2132</td>\n",
       "      <td>80</td>\n",
       "      <td>621</td>\n",
       "      <td>549</td>\n",
       "      <td>897</td>\n",
       "    </tr>\n",
       "    <tr>\n",
       "      <th>2022-12-26</th>\n",
       "      <td>834</td>\n",
       "      <td>382</td>\n",
       "      <td>223</td>\n",
       "      <td>4355</td>\n",
       "      <td>1</td>\n",
       "      <td>82</td>\n",
       "      <td>1907</td>\n",
       "      <td>1839</td>\n",
       "      <td>568</td>\n",
       "      <td>292</td>\n",
       "      <td>2798</td>\n",
       "    </tr>\n",
       "  </tbody>\n",
       "</table>\n",
       "</div>"
      ],
      "text/plain": [
       "            date  danceability  energy  loudness  mode  speechiness  \\\n",
       "2022-12-26   834           346     668      1043     1           70   \n",
       "2022-12-26   834           405     655      2675     0           46   \n",
       "2022-12-26   834           432     594      1716     1          662   \n",
       "2022-12-26   834           377     393      3764     1          595   \n",
       "2022-12-26   834           382     223      4355     1           82   \n",
       "\n",
       "            acousticness  instrumentalness  liveness  valence  tempo  \n",
       "2022-12-26           767                 0       642      682   3100  \n",
       "2022-12-26           249              1852       821      758   1270  \n",
       "2022-12-26          1373                75       655      558   1652  \n",
       "2022-12-26          2132                80       621      549    897  \n",
       "2022-12-26          1907              1839       568      292   2798  "
      ]
     },
     "execution_count": 5,
     "metadata": {},
     "output_type": "execute_result"
    }
   ],
   "source": [
    "test_datas.tail()"
   ]
  },
  {
   "cell_type": "code",
   "execution_count": 6,
   "metadata": {},
   "outputs": [
    {
     "data": {
      "text/html": [
       "<div>\n",
       "<style scoped>\n",
       "    .dataframe tbody tr th:only-of-type {\n",
       "        vertical-align: middle;\n",
       "    }\n",
       "\n",
       "    .dataframe tbody tr th {\n",
       "        vertical-align: top;\n",
       "    }\n",
       "\n",
       "    .dataframe thead th {\n",
       "        text-align: right;\n",
       "    }\n",
       "</style>\n",
       "<table border=\"1\" class=\"dataframe\">\n",
       "  <thead>\n",
       "    <tr style=\"text-align: right;\">\n",
       "      <th></th>\n",
       "      <th>0</th>\n",
       "    </tr>\n",
       "  </thead>\n",
       "  <tbody>\n",
       "    <tr>\n",
       "      <th>1963-01-01</th>\n",
       "      <td>1</td>\n",
       "    </tr>\n",
       "    <tr>\n",
       "      <th>1963-01-01</th>\n",
       "      <td>2</td>\n",
       "    </tr>\n",
       "    <tr>\n",
       "      <th>1963-01-01</th>\n",
       "      <td>3</td>\n",
       "    </tr>\n",
       "    <tr>\n",
       "      <th>1963-01-01</th>\n",
       "      <td>4</td>\n",
       "    </tr>\n",
       "    <tr>\n",
       "      <th>1963-01-01</th>\n",
       "      <td>5</td>\n",
       "    </tr>\n",
       "  </tbody>\n",
       "</table>\n",
       "</div>"
      ],
      "text/plain": [
       "            0\n",
       "1963-01-01  1\n",
       "1963-01-01  2\n",
       "1963-01-01  3\n",
       "1963-01-01  4\n",
       "1963-01-01  5"
      ]
     },
     "execution_count": 6,
     "metadata": {},
     "output_type": "execute_result"
    }
   ],
   "source": [
    "test_labels.head()"
   ]
  },
  {
   "cell_type": "code",
   "execution_count": 7,
   "metadata": {},
   "outputs": [
    {
     "data": {
      "text/html": [
       "<div>\n",
       "<style scoped>\n",
       "    .dataframe tbody tr th:only-of-type {\n",
       "        vertical-align: middle;\n",
       "    }\n",
       "\n",
       "    .dataframe tbody tr th {\n",
       "        vertical-align: top;\n",
       "    }\n",
       "\n",
       "    .dataframe thead th {\n",
       "        text-align: right;\n",
       "    }\n",
       "</style>\n",
       "<table border=\"1\" class=\"dataframe\">\n",
       "  <thead>\n",
       "    <tr style=\"text-align: right;\">\n",
       "      <th></th>\n",
       "      <th>0</th>\n",
       "    </tr>\n",
       "  </thead>\n",
       "  <tbody>\n",
       "    <tr>\n",
       "      <th>2022-12-26</th>\n",
       "      <td>96</td>\n",
       "    </tr>\n",
       "    <tr>\n",
       "      <th>2022-12-26</th>\n",
       "      <td>97</td>\n",
       "    </tr>\n",
       "    <tr>\n",
       "      <th>2022-12-26</th>\n",
       "      <td>98</td>\n",
       "    </tr>\n",
       "    <tr>\n",
       "      <th>2022-12-26</th>\n",
       "      <td>99</td>\n",
       "    </tr>\n",
       "    <tr>\n",
       "      <th>2022-12-26</th>\n",
       "      <td>100</td>\n",
       "    </tr>\n",
       "  </tbody>\n",
       "</table>\n",
       "</div>"
      ],
      "text/plain": [
       "              0\n",
       "2022-12-26   96\n",
       "2022-12-26   97\n",
       "2022-12-26   98\n",
       "2022-12-26   99\n",
       "2022-12-26  100"
      ]
     },
     "execution_count": 7,
     "metadata": {},
     "output_type": "execute_result"
    }
   ],
   "source": [
    "test_labels.tail()"
   ]
  },
  {
   "cell_type": "markdown",
   "metadata": {},
   "source": [
    "#### N개의 데이터 × 11개의 Feature로 구성"
   ]
  },
  {
   "cell_type": "code",
   "execution_count": 8,
   "metadata": {},
   "outputs": [
    {
     "data": {
      "text/plain": [
       "(313187, 11)"
      ]
     },
     "execution_count": 8,
     "metadata": {},
     "output_type": "execute_result"
    }
   ],
   "source": [
    "test_datas.shape"
   ]
  },
  {
   "cell_type": "markdown",
   "metadata": {},
   "source": [
    "#### N개의 데이터 × 1개의 Label로 구성"
   ]
  },
  {
   "cell_type": "code",
   "execution_count": 9,
   "metadata": {},
   "outputs": [
    {
     "data": {
      "text/plain": [
       "(313187, 1)"
      ]
     },
     "execution_count": 9,
     "metadata": {},
     "output_type": "execute_result"
    }
   ],
   "source": [
    "test_labels.shape"
   ]
  },
  {
   "cell_type": "code",
   "execution_count": null,
   "metadata": {},
   "outputs": [],
   "source": []
  }
 ],
 "metadata": {
  "kernelspec": {
   "display_name": "base",
   "language": "python",
   "name": "python3"
  },
  "language_info": {
   "codemirror_mode": {
    "name": "ipython",
    "version": 3
   },
   "file_extension": ".py",
   "mimetype": "text/x-python",
   "name": "python",
   "nbconvert_exporter": "python",
   "pygments_lexer": "ipython3",
   "version": "3.12.4"
  }
 },
 "nbformat": 4,
 "nbformat_minor": 2
}
