{
 "cells": [
  {
   "cell_type": "markdown",
   "metadata": {},
   "source": [
    "### 각자 생성한 csv 파일들을 하나로 통합"
   ]
  },
  {
   "cell_type": "code",
   "execution_count": 21,
   "metadata": {},
   "outputs": [],
   "source": [
    "# 각자 추출한 연도별 csv 파일들을 하나의 csv 파일로 통합하는 코드\n",
    "\n",
    "import pandas as pd\n",
    "import os\n",
    "\n",
    "def csv_integrate() -> None:\n",
    "    # csv 파일 저장된 디렉터리 설정\n",
    "    dfs_path = 'data/dataframes/'\n",
    "    dfs_list = os.listdir(dfs_path)\n",
    "    # 데이터프레임, 레이블의 csv 파일들의 목록을 각각 추출\n",
    "    dataframe_list = [df for df in dfs_list if df.startswith('dataframe')]\n",
    "    label_list = [df for df in dfs_list if df.startswith('label')]\n",
    "\n",
    "    # csv 파일을 데이터프레임으로 불러와 리스트로 저장\n",
    "    dataframes = []\n",
    "    labels = []\n",
    "\n",
    "    for dataframe in dataframe_list:\n",
    "        dataframes.append(pd.read_csv(dfs_path + dataframe, index_col=0))\n",
    "\n",
    "    for label in label_list:\n",
    "        labels.append(pd.read_csv(dfs_path + label, index_col=0))\n",
    "\n",
    "    # 리스트에 저장된 모든 데이터프레임들을 하나의 데이터프레임으로 통합\n",
    "    integrated_dataframe = pd.concat(dataframes)\n",
    "    integrated_label = pd.concat(labels)\n",
    "\n",
    "    # 통합된 데이터프레임을 다시 csv로 변환하여 저장\n",
    "    integrated_dataframe.to_csv(dfs_path + 'dataframe_final.csv') # (학습 데이터)원하는 파일명으로 바꾸면 됩니다.\n",
    "    integrated_label.to_csv(dfs_path + 'label_final.csv') # (레이블 데이터)\n"
   ]
  },
  {
   "cell_type": "code",
   "execution_count": null,
   "metadata": {},
   "outputs": [],
   "source": [
    "csv_integrate()"
   ]
  },
  {
   "cell_type": "markdown",
   "metadata": {},
   "source": [
    "#### 이 아래는 통합이 잘 되었는지 확인하는 코드입니다."
   ]
  },
  {
   "cell_type": "code",
   "execution_count": 22,
   "metadata": {},
   "outputs": [],
   "source": [
    "test_datas = pd.read_csv('data/dataframes/dataframe_final.csv', index_col=0)\n",
    "test_labels = pd.read_csv('data/dataframes/label_final.csv', index_col=0)"
   ]
  },
  {
   "cell_type": "code",
   "execution_count": 23,
   "metadata": {},
   "outputs": [
    {
     "data": {
      "text/html": [
       "<div>\n",
       "<style scoped>\n",
       "    .dataframe tbody tr th:only-of-type {\n",
       "        vertical-align: middle;\n",
       "    }\n",
       "\n",
       "    .dataframe tbody tr th {\n",
       "        vertical-align: top;\n",
       "    }\n",
       "\n",
       "    .dataframe thead th {\n",
       "        text-align: right;\n",
       "    }\n",
       "</style>\n",
       "<table border=\"1\" class=\"dataframe\">\n",
       "  <thead>\n",
       "    <tr style=\"text-align: right;\">\n",
       "      <th></th>\n",
       "      <th>date</th>\n",
       "      <th>danceability</th>\n",
       "      <th>energy</th>\n",
       "      <th>loudness</th>\n",
       "      <th>mode</th>\n",
       "      <th>speechiness</th>\n",
       "      <th>acousticness</th>\n",
       "      <th>instrumentalness</th>\n",
       "      <th>liveness</th>\n",
       "      <th>valence</th>\n",
       "      <th>tempo</th>\n",
       "    </tr>\n",
       "  </thead>\n",
       "  <tbody>\n",
       "    <tr>\n",
       "      <th>1978-01-01</th>\n",
       "      <td>0</td>\n",
       "      <td>406</td>\n",
       "      <td>226</td>\n",
       "      <td>4323</td>\n",
       "      <td>0</td>\n",
       "      <td>38</td>\n",
       "      <td>1356</td>\n",
       "      <td>0</td>\n",
       "      <td>727</td>\n",
       "      <td>607</td>\n",
       "      <td>292</td>\n",
       "    </tr>\n",
       "    <tr>\n",
       "      <th>1978-01-01</th>\n",
       "      <td>0</td>\n",
       "      <td>418</td>\n",
       "      <td>473</td>\n",
       "      <td>4575</td>\n",
       "      <td>0</td>\n",
       "      <td>703</td>\n",
       "      <td>1129</td>\n",
       "      <td>0</td>\n",
       "      <td>723</td>\n",
       "      <td>480</td>\n",
       "      <td>4115</td>\n",
       "    </tr>\n",
       "    <tr>\n",
       "      <th>1978-01-01</th>\n",
       "      <td>0</td>\n",
       "      <td>505</td>\n",
       "      <td>60</td>\n",
       "      <td>1171</td>\n",
       "      <td>1</td>\n",
       "      <td>80</td>\n",
       "      <td>1959</td>\n",
       "      <td>228</td>\n",
       "      <td>699</td>\n",
       "      <td>435</td>\n",
       "      <td>5359</td>\n",
       "    </tr>\n",
       "    <tr>\n",
       "      <th>1978-01-01</th>\n",
       "      <td>0</td>\n",
       "      <td>597</td>\n",
       "      <td>505</td>\n",
       "      <td>787</td>\n",
       "      <td>1</td>\n",
       "      <td>694</td>\n",
       "      <td>1230</td>\n",
       "      <td>230</td>\n",
       "      <td>1046</td>\n",
       "      <td>849</td>\n",
       "      <td>639</td>\n",
       "    </tr>\n",
       "    <tr>\n",
       "      <th>1978-01-01</th>\n",
       "      <td>0</td>\n",
       "      <td>358</td>\n",
       "      <td>380</td>\n",
       "      <td>4324</td>\n",
       "      <td>1</td>\n",
       "      <td>165</td>\n",
       "      <td>1881</td>\n",
       "      <td>846</td>\n",
       "      <td>103</td>\n",
       "      <td>487</td>\n",
       "      <td>379</td>\n",
       "    </tr>\n",
       "  </tbody>\n",
       "</table>\n",
       "</div>"
      ],
      "text/plain": [
       "            date  danceability  energy  loudness  mode  speechiness  \\\n",
       "1978-01-01     0           406     226      4323     0           38   \n",
       "1978-01-01     0           418     473      4575     0          703   \n",
       "1978-01-01     0           505      60      1171     1           80   \n",
       "1978-01-01     0           597     505       787     1          694   \n",
       "1978-01-01     0           358     380      4324     1          165   \n",
       "\n",
       "            acousticness  instrumentalness  liveness  valence  tempo  \n",
       "1978-01-01          1356                 0       727      607    292  \n",
       "1978-01-01          1129                 0       723      480   4115  \n",
       "1978-01-01          1959               228       699      435   5359  \n",
       "1978-01-01          1230               230      1046      849    639  \n",
       "1978-01-01          1881               846       103      487    379  "
      ]
     },
     "execution_count": 23,
     "metadata": {},
     "output_type": "execute_result"
    }
   ],
   "source": [
    "test_datas.head()"
   ]
  },
  {
   "cell_type": "code",
   "execution_count": 24,
   "metadata": {},
   "outputs": [
    {
     "data": {
      "text/html": [
       "<div>\n",
       "<style scoped>\n",
       "    .dataframe tbody tr th:only-of-type {\n",
       "        vertical-align: middle;\n",
       "    }\n",
       "\n",
       "    .dataframe tbody tr th {\n",
       "        vertical-align: top;\n",
       "    }\n",
       "\n",
       "    .dataframe thead th {\n",
       "        text-align: right;\n",
       "    }\n",
       "</style>\n",
       "<table border=\"1\" class=\"dataframe\">\n",
       "  <thead>\n",
       "    <tr style=\"text-align: right;\">\n",
       "      <th></th>\n",
       "      <th>date</th>\n",
       "      <th>danceability</th>\n",
       "      <th>energy</th>\n",
       "      <th>loudness</th>\n",
       "      <th>mode</th>\n",
       "      <th>speechiness</th>\n",
       "      <th>acousticness</th>\n",
       "      <th>instrumentalness</th>\n",
       "      <th>liveness</th>\n",
       "      <th>valence</th>\n",
       "      <th>tempo</th>\n",
       "    </tr>\n",
       "  </thead>\n",
       "  <tbody>\n",
       "    <tr>\n",
       "      <th>2006-12-29</th>\n",
       "      <td>730</td>\n",
       "      <td>663</td>\n",
       "      <td>471</td>\n",
       "      <td>1657</td>\n",
       "      <td>0</td>\n",
       "      <td>801</td>\n",
       "      <td>651</td>\n",
       "      <td>186</td>\n",
       "      <td>118</td>\n",
       "      <td>810</td>\n",
       "      <td>829</td>\n",
       "    </tr>\n",
       "    <tr>\n",
       "      <th>2006-12-29</th>\n",
       "      <td>730</td>\n",
       "      <td>684</td>\n",
       "      <td>772</td>\n",
       "      <td>3519</td>\n",
       "      <td>2</td>\n",
       "      <td>990</td>\n",
       "      <td>1961</td>\n",
       "      <td>1706</td>\n",
       "      <td>1108</td>\n",
       "      <td>910</td>\n",
       "      <td>4204</td>\n",
       "    </tr>\n",
       "    <tr>\n",
       "      <th>2006-12-29</th>\n",
       "      <td>730</td>\n",
       "      <td>649</td>\n",
       "      <td>297</td>\n",
       "      <td>1927</td>\n",
       "      <td>1</td>\n",
       "      <td>267</td>\n",
       "      <td>1659</td>\n",
       "      <td>33</td>\n",
       "      <td>617</td>\n",
       "      <td>619</td>\n",
       "      <td>3589</td>\n",
       "    </tr>\n",
       "    <tr>\n",
       "      <th>2006-12-29</th>\n",
       "      <td>730</td>\n",
       "      <td>342</td>\n",
       "      <td>305</td>\n",
       "      <td>2551</td>\n",
       "      <td>1</td>\n",
       "      <td>81</td>\n",
       "      <td>1535</td>\n",
       "      <td>0</td>\n",
       "      <td>650</td>\n",
       "      <td>349</td>\n",
       "      <td>1886</td>\n",
       "    </tr>\n",
       "    <tr>\n",
       "      <th>2006-12-29</th>\n",
       "      <td>730</td>\n",
       "      <td>609</td>\n",
       "      <td>217</td>\n",
       "      <td>2651</td>\n",
       "      <td>1</td>\n",
       "      <td>796</td>\n",
       "      <td>606</td>\n",
       "      <td>0</td>\n",
       "      <td>523</td>\n",
       "      <td>651</td>\n",
       "      <td>3367</td>\n",
       "    </tr>\n",
       "  </tbody>\n",
       "</table>\n",
       "</div>"
      ],
      "text/plain": [
       "            date  danceability  energy  loudness  mode  speechiness  \\\n",
       "2006-12-29   730           663     471      1657     0          801   \n",
       "2006-12-29   730           684     772      3519     2          990   \n",
       "2006-12-29   730           649     297      1927     1          267   \n",
       "2006-12-29   730           342     305      2551     1           81   \n",
       "2006-12-29   730           609     217      2651     1          796   \n",
       "\n",
       "            acousticness  instrumentalness  liveness  valence  tempo  \n",
       "2006-12-29           651               186       118      810    829  \n",
       "2006-12-29          1961              1706      1108      910   4204  \n",
       "2006-12-29          1659                33       617      619   3589  \n",
       "2006-12-29          1535                 0       650      349   1886  \n",
       "2006-12-29           606                 0       523      651   3367  "
      ]
     },
     "execution_count": 24,
     "metadata": {},
     "output_type": "execute_result"
    }
   ],
   "source": [
    "test_datas.tail()"
   ]
  },
  {
   "cell_type": "code",
   "execution_count": 25,
   "metadata": {},
   "outputs": [
    {
     "data": {
      "text/html": [
       "<div>\n",
       "<style scoped>\n",
       "    .dataframe tbody tr th:only-of-type {\n",
       "        vertical-align: middle;\n",
       "    }\n",
       "\n",
       "    .dataframe tbody tr th {\n",
       "        vertical-align: top;\n",
       "    }\n",
       "\n",
       "    .dataframe thead th {\n",
       "        text-align: right;\n",
       "    }\n",
       "</style>\n",
       "<table border=\"1\" class=\"dataframe\">\n",
       "  <thead>\n",
       "    <tr style=\"text-align: right;\">\n",
       "      <th></th>\n",
       "      <th>0</th>\n",
       "    </tr>\n",
       "  </thead>\n",
       "  <tbody>\n",
       "    <tr>\n",
       "      <th>1978-01-01</th>\n",
       "      <td>1</td>\n",
       "    </tr>\n",
       "    <tr>\n",
       "      <th>1978-01-01</th>\n",
       "      <td>2</td>\n",
       "    </tr>\n",
       "    <tr>\n",
       "      <th>1978-01-01</th>\n",
       "      <td>3</td>\n",
       "    </tr>\n",
       "    <tr>\n",
       "      <th>1978-01-01</th>\n",
       "      <td>4</td>\n",
       "    </tr>\n",
       "    <tr>\n",
       "      <th>1978-01-01</th>\n",
       "      <td>5</td>\n",
       "    </tr>\n",
       "  </tbody>\n",
       "</table>\n",
       "</div>"
      ],
      "text/plain": [
       "            0\n",
       "1978-01-01  1\n",
       "1978-01-01  2\n",
       "1978-01-01  3\n",
       "1978-01-01  4\n",
       "1978-01-01  5"
      ]
     },
     "execution_count": 25,
     "metadata": {},
     "output_type": "execute_result"
    }
   ],
   "source": [
    "test_labels.head()"
   ]
  },
  {
   "cell_type": "code",
   "execution_count": 26,
   "metadata": {},
   "outputs": [
    {
     "data": {
      "text/html": [
       "<div>\n",
       "<style scoped>\n",
       "    .dataframe tbody tr th:only-of-type {\n",
       "        vertical-align: middle;\n",
       "    }\n",
       "\n",
       "    .dataframe tbody tr th {\n",
       "        vertical-align: top;\n",
       "    }\n",
       "\n",
       "    .dataframe thead th {\n",
       "        text-align: right;\n",
       "    }\n",
       "</style>\n",
       "<table border=\"1\" class=\"dataframe\">\n",
       "  <thead>\n",
       "    <tr style=\"text-align: right;\">\n",
       "      <th></th>\n",
       "      <th>0</th>\n",
       "    </tr>\n",
       "  </thead>\n",
       "  <tbody>\n",
       "    <tr>\n",
       "      <th>2006-12-29</th>\n",
       "      <td>96</td>\n",
       "    </tr>\n",
       "    <tr>\n",
       "      <th>2006-12-29</th>\n",
       "      <td>50</td>\n",
       "    </tr>\n",
       "    <tr>\n",
       "      <th>2006-12-29</th>\n",
       "      <td>98</td>\n",
       "    </tr>\n",
       "    <tr>\n",
       "      <th>2006-12-29</th>\n",
       "      <td>99</td>\n",
       "    </tr>\n",
       "    <tr>\n",
       "      <th>2006-12-29</th>\n",
       "      <td>100</td>\n",
       "    </tr>\n",
       "  </tbody>\n",
       "</table>\n",
       "</div>"
      ],
      "text/plain": [
       "              0\n",
       "2006-12-29   96\n",
       "2006-12-29   50\n",
       "2006-12-29   98\n",
       "2006-12-29   99\n",
       "2006-12-29  100"
      ]
     },
     "execution_count": 26,
     "metadata": {},
     "output_type": "execute_result"
    }
   ],
   "source": [
    "test_labels.tail()"
   ]
  },
  {
   "cell_type": "markdown",
   "metadata": {},
   "source": [
    "#### N개의 데이터 × 11개의 Feature로 구성"
   ]
  },
  {
   "cell_type": "code",
   "execution_count": 27,
   "metadata": {},
   "outputs": [
    {
     "data": {
      "text/plain": [
       "(229700, 11)"
      ]
     },
     "execution_count": 27,
     "metadata": {},
     "output_type": "execute_result"
    }
   ],
   "source": [
    "test_datas.shape"
   ]
  },
  {
   "cell_type": "markdown",
   "metadata": {},
   "source": [
    "#### N개의 데이터 × 1개의 Label로 구성"
   ]
  },
  {
   "cell_type": "code",
   "execution_count": 28,
   "metadata": {},
   "outputs": [
    {
     "data": {
      "text/plain": [
       "(229700, 1)"
      ]
     },
     "execution_count": 28,
     "metadata": {},
     "output_type": "execute_result"
    }
   ],
   "source": [
    "test_labels.shape"
   ]
  }
 ],
 "metadata": {
  "kernelspec": {
   "display_name": "base",
   "language": "python",
   "name": "python3"
  },
  "language_info": {
   "codemirror_mode": {
    "name": "ipython",
    "version": 3
   },
   "file_extension": ".py",
   "mimetype": "text/x-python",
   "name": "python",
   "nbconvert_exporter": "python",
   "pygments_lexer": "ipython3",
   "version": "3.12.4"
  }
 },
 "nbformat": 4,
 "nbformat_minor": 2
}
