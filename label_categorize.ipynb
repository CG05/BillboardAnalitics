{
 "cells": [
  {
   "cell_type": "code",
   "execution_count": 17,
   "metadata": {},
   "outputs": [],
   "source": [
    "# 1~100의 라벨을 10 단위로 끊어서 카테고리화하는 함수\n",
    "\n",
    "import pandas as pd\n",
    "\n",
    "def label_categorize() -> None:\n",
    "    df_label = pd.read_csv('data/dataframes/label_final.csv', index_col=0)\n",
    "    # 1 ~ 10위를 top10, 11 ~ 20위를 top20, ... 91 ~ 100위를 top100으로 설정\n",
    "    df_label['0'] = ((df_label['0'] - 1) // 10) * 10 + 10\n",
    "    df_label.columns = ['top']\n",
    "    df_label.head()\n",
    "    df_label.to_csv('data/dataframes/label_categorized_final.csv')\n",
    "\n",
    "    "
   ]
  },
  {
   "cell_type": "code",
   "execution_count": 18,
   "metadata": {},
   "outputs": [],
   "source": [
    "label_categorize()"
   ]
  }
 ],
 "metadata": {
  "kernelspec": {
   "display_name": ".venv",
   "language": "python",
   "name": "python3"
  },
  "language_info": {
   "codemirror_mode": {
    "name": "ipython",
    "version": 3
   },
   "file_extension": ".py",
   "mimetype": "text/x-python",
   "name": "python",
   "nbconvert_exporter": "python",
   "pygments_lexer": "ipython3",
   "version": "3.12.4"
  }
 },
 "nbformat": 4,
 "nbformat_minor": 2
}
